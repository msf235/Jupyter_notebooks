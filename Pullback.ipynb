                                      Revisitin                                         
                                  gnumericalanalysi                                     
                              sRevisitingnumericalanal                                  
                      ysisRevisitingn           umerical                                
                   analysisRevis                  itingnu                               
                 mericalanalysis                   Revisi                               
                 tingnumericalana                   lysis                               
                 Revisitingn umeric    alanalysisR  evisi                               
                 tingnumericalanalys isRevisitingnum eric                               
                 alanalysisRevisit  ingnumericalanalysisR                               
                evisi  tingnumeric  alanalysisRevisitingn                               
               umericalanalysisRevi sitingnumer icalanaly                               
              sisRevisitingnumeri   calanalysisRevisiting                               
             numericalanalysisRevisitingnumerical  analy                                
            sisRe          visitingnumericala     nalysi                                
           sRevi                      sitingn     umeric                                
          alanal                                 ysisRe                                 
         visiti                                 ngnume                                  
        ricala                                  nalysi                                  
        sRevi                      siti        ngnume                                   
        rica                      lanal ysi   sRevis                                    
        itin                      gnumerical  analy                         sisRevisi   
       tingn                      umericala  nalys                        isRevisiting  
       numer                     icalanalys isRev                       isitin    gnum  
       erica                     lanalysis  Revis                     itingnu    meric  
       alana                    lysisRevi  siting                   numeric     alana   
       lysis                    Revisiti   ngnumericalanalysisR   evisiti     ngnum     
        eric                   alanalys    isRevisitingnumericalanalysi      sRevi      
        siti                   ngnumer     icala   nalys   isRevisiti      ngnume       
        rica                  lanalysi      sRe   visitingnumerical      analys         
        isRev               isiti ngnum         ericalanalysisRevi     sitingn          
         umer             icala  nalysis         Revisitingnumerical   analysis         
         Revis            itingnumerical                     analysis    Revisitin      
          gnume            ricalanalysi              sRev       isitin  gnum erica      
          lanaly              sisR                   evis        itingn  umerical       
           analys                                isR              evisi    ting         
            numerica                            lana              lysis     Revi        
               sitingn                          umer              icalanalysisRe        
     vis        itingnumer                       ical           analysisRevisit         
    ingnume    ricalanalysisRevi                  sit         ingnume    r              
    icalanalysisRe visitingnumericalanal           ysis    Revisit                      
    ingn umericalanalys    isRevisitingnum ericalanalysisRevisit                        
     ingn  umericalan         alysisRevis itingnumericalanaly                           
      sisR   evisit         ingnumerical analy sisRevisiti                              
       ngnumerica           lanalysisRe  visi                                           
        tingnum              ericalan   alys                                            
          isR                evisit    ingn                                             
                              umeric  alan                                              
                               alysisRevi                                               
                                 sitingn                                                
                                   ume
